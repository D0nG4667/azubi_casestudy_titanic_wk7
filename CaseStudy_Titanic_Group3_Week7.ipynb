{
 "cells": [
  {
   "cell_type": "markdown",
   "metadata": {},
   "source": [
    "# [Case Study Project](https://cloud-school.thinkific.com/courses/take/analytics-with-python-module/downloads/49216404-case-study)\n",
    "## TITANIC DATASET\n",
    "## Group 3\n",
    "## Week 7\n",
    "### Gabriel Osasumwen Okundaye, gabriel.okundaye@azubiafrica.org 🌍"
   ]
  },
  {
   "cell_type": "markdown",
   "metadata": {},
   "source": [
    "## Table of Contents\n",
    "\n",
    "\n",
    "[**Step 1: Business Understanding**](#Step-1:-Business-Understanding)\n",
    "\n",
    "[**Step 2: Data Understanding**](#Step-2:-Data-Understanding)\n",
    "\n",
    "- [**Load Data**](#Load-Data)\n",
    "- [**Check Data Quality**](#Check-Data-Quality)\n",
    "- [**Exploratory Data Analysis-EDA**](#Exploratory-Data-Analysis---EDA)\n",
    " "
   ]
  },
  {
   "cell_type": "markdown",
   "metadata": {},
   "source": [
    "[Back to Top](#Table-of-Contents)\n",
    "\n",
    "## Step 1: Business Understanding\n",
    "This initial phase focuses on understanding the project objectives and requirements from a business perspective, and then converting this knowledge into a data mining problem definition, and a preliminary plan designed to achieve the objectives.\n",
    "#### Titanic Story\n",
    "The sinking of the RMS Titanic is one of the most infamous shipwrecks in history.  On April 15, 1912, during her maiden voyage, the Titanic sank after colliding with an iceberg, killing 1502 out of 2224 passengers and crew. This sensational tragedy shocked the international community and led to better safety regulations for ships.\n",
    "\n",
    "One of the reasons that the shipwreck led to such loss of life was that there were not enough lifeboats for the passengers and crew. Although there was some element of luck involved in surviving the sinking, some groups of people were more likely to survive than others, such as women, children, and the upper-class passengers.\n",
    "\n",
    "#### Objective\n",
    "In this challenge, we will complete the analysis of what sorts of people were likely to survive. \n",
    "\n",
    "In addition, we will build a regression model to predict ticket price(Fare).\n",
    "\n"
   ]
  },
  {
   "cell_type": "markdown",
   "metadata": {},
   "source": [
    "[Back to Top](#Table-of-Contents)\n",
    "\n",
    "## Step 2: Data Understanding\n",
    "The data understanding phase starts with an initial data collection and proceeds with activities in order to get familiar with the data, to identify data quality problems, to discover first insights into the data, or to detect interesting subsets to form hypotheses for hidden information. This step is often mixed with the next step, Data Preparation."
   ]
  },
  {
   "cell_type": "markdown",
   "metadata": {},
   "source": [
    "### Data Dictionary\n",
    "The data is in a csv file titanic.csv. \n",
    "\n",
    "| Variable | Definition | Key |\n",
    "| --- | --- | --- |\n",
    "| survival | Survival | 0 = No, 1 = Yes |\n",
    "| pclass | Ticket class\t| 1 = 1st, 2 = 2nd, 3 = 3rd |\n",
    "| sex | Sex | male/female |\t\n",
    "| Age | Age | in years |\n",
    "| sibsp | # of siblings / spouses aboard the Titanic | |\n",
    "| parch | # of parents / children aboard the Titanic | |\n",
    "| ticket | Ticket number | |\n",
    "| fare | Passenger fare | |\n",
    "| cabin | Cabin number | |\n",
    "| embarked | Port of Embarkation | C = Cherbourg, Q = Queenstown, S = Southampton |\n",
    "\n",
    "**Variable Notes**\n",
    "- pclass: A proxy for socio-economic status (SES)\n",
    " - 1st = Upper\n",
    " - 2nd = Middle\n",
    " - 3rd = Lower\n",
    "\n",
    "- age: Age is fractional if less than 1. If the age is estimated, is it in the form of xx.5\n",
    "\n",
    "- sibsp: The dataset defines family relations in this way...\n",
    "- Sibling = brother, sister, stepbrother, stepsister\n",
    "- Spouse = husband, wife (mistresses and fiancés were ignored)\n",
    "\n",
    "- parch: The dataset defines family relations in this way...\n",
    " - Parent = mother, father\n",
    " - Child = daughter, son, stepdaughter, stepson\n",
    " - Some children travelled only with a nanny, therefore parch=0 for them.\n",
    "\n"
   ]
  },
  {
   "cell_type": "markdown",
   "metadata": {},
   "source": [
    "### Load Data\n",
    "\n",
    "This dataset is in titanic.csv. Make sure the file is in current folder. Please download the file from [here](https://github.com/data-lessons/python-business/tree/gh-pages/data) if you haven't done so yet."
   ]
  },
  {
   "cell_type": "code",
   "execution_count": 1,
   "metadata": {
    "slideshow": {
     "slide_type": "slide"
    }
   },
   "outputs": [],
   "source": [
    "import pandas as pd\n",
    "import matplotlib.pyplot as plt\n",
    "import seaborn as sns\n",
    "import warnings\n",
    "warnings.filterwarnings('ignore')\n",
    "%matplotlib inline"
   ]
  },
  {
   "cell_type": "code",
   "execution_count": 2,
   "metadata": {
    "slideshow": {
     "slide_type": "slide"
    }
   },
   "outputs": [
    {
     "data": {
      "text/html": [
       "<div>\n",
       "<style scoped>\n",
       "    .dataframe tbody tr th:only-of-type {\n",
       "        vertical-align: middle;\n",
       "    }\n",
       "\n",
       "    .dataframe tbody tr th {\n",
       "        vertical-align: top;\n",
       "    }\n",
       "\n",
       "    .dataframe thead th {\n",
       "        text-align: right;\n",
       "    }\n",
       "</style>\n",
       "<table border=\"1\" class=\"dataframe\">\n",
       "  <thead>\n",
       "    <tr style=\"text-align: right;\">\n",
       "      <th></th>\n",
       "      <th>PassengerId</th>\n",
       "      <th>Survived</th>\n",
       "      <th>Pclass</th>\n",
       "      <th>Name</th>\n",
       "      <th>Sex</th>\n",
       "      <th>Age</th>\n",
       "      <th>SibSp</th>\n",
       "      <th>Parch</th>\n",
       "      <th>Ticket</th>\n",
       "      <th>Fare</th>\n",
       "      <th>Cabin</th>\n",
       "      <th>Embarked</th>\n",
       "    </tr>\n",
       "  </thead>\n",
       "  <tbody>\n",
       "    <tr>\n",
       "      <th>0</th>\n",
       "      <td>1</td>\n",
       "      <td>0</td>\n",
       "      <td>3</td>\n",
       "      <td>Braund, Mr. Owen Harris</td>\n",
       "      <td>male</td>\n",
       "      <td>22.0</td>\n",
       "      <td>1</td>\n",
       "      <td>0</td>\n",
       "      <td>A/5 21171</td>\n",
       "      <td>$7.25</td>\n",
       "      <td>NaN</td>\n",
       "      <td>S</td>\n",
       "    </tr>\n",
       "    <tr>\n",
       "      <th>1</th>\n",
       "      <td>2</td>\n",
       "      <td>1</td>\n",
       "      <td>1</td>\n",
       "      <td>Cumings, Mrs. John Bradley (Florence Briggs Th...</td>\n",
       "      <td>female</td>\n",
       "      <td>38.0</td>\n",
       "      <td>1</td>\n",
       "      <td>0</td>\n",
       "      <td>PC 17599</td>\n",
       "      <td>$71.2833</td>\n",
       "      <td>C85</td>\n",
       "      <td>C</td>\n",
       "    </tr>\n",
       "    <tr>\n",
       "      <th>2</th>\n",
       "      <td>3</td>\n",
       "      <td>1</td>\n",
       "      <td>3</td>\n",
       "      <td>Heikkinen, Miss. Laina</td>\n",
       "      <td>female</td>\n",
       "      <td>26.0</td>\n",
       "      <td>0</td>\n",
       "      <td>0</td>\n",
       "      <td>STON/O2. 3101282</td>\n",
       "      <td>$7.925</td>\n",
       "      <td>NaN</td>\n",
       "      <td>S</td>\n",
       "    </tr>\n",
       "    <tr>\n",
       "      <th>3</th>\n",
       "      <td>4</td>\n",
       "      <td>1</td>\n",
       "      <td>1</td>\n",
       "      <td>Futrelle, Mrs. Jacques Heath (Lily May Peel)</td>\n",
       "      <td>female</td>\n",
       "      <td>35.0</td>\n",
       "      <td>1</td>\n",
       "      <td>0</td>\n",
       "      <td>113803</td>\n",
       "      <td>$53.1</td>\n",
       "      <td>C123</td>\n",
       "      <td>S</td>\n",
       "    </tr>\n",
       "    <tr>\n",
       "      <th>4</th>\n",
       "      <td>5</td>\n",
       "      <td>0</td>\n",
       "      <td>3</td>\n",
       "      <td>Allen, Mr. William Henry</td>\n",
       "      <td>male</td>\n",
       "      <td>35.0</td>\n",
       "      <td>0</td>\n",
       "      <td>0</td>\n",
       "      <td>373450</td>\n",
       "      <td>$8.05</td>\n",
       "      <td>NaN</td>\n",
       "      <td>S</td>\n",
       "    </tr>\n",
       "  </tbody>\n",
       "</table>\n",
       "</div>"
      ],
      "text/plain": [
       "   PassengerId  Survived  Pclass  \\\n",
       "0            1         0       3   \n",
       "1            2         1       1   \n",
       "2            3         1       3   \n",
       "3            4         1       1   \n",
       "4            5         0       3   \n",
       "\n",
       "                                                Name     Sex   Age  SibSp  \\\n",
       "0                            Braund, Mr. Owen Harris    male  22.0      1   \n",
       "1  Cumings, Mrs. John Bradley (Florence Briggs Th...  female  38.0      1   \n",
       "2                             Heikkinen, Miss. Laina  female  26.0      0   \n",
       "3       Futrelle, Mrs. Jacques Heath (Lily May Peel)  female  35.0      1   \n",
       "4                           Allen, Mr. William Henry    male  35.0      0   \n",
       "\n",
       "   Parch            Ticket      Fare Cabin Embarked  \n",
       "0      0         A/5 21171     $7.25   NaN        S  \n",
       "1      0          PC 17599  $71.2833   C85        C  \n",
       "2      0  STON/O2. 3101282    $7.925   NaN        S  \n",
       "3      0            113803     $53.1  C123        S  \n",
       "4      0            373450     $8.05   NaN        S  "
      ]
     },
     "execution_count": 2,
     "metadata": {},
     "output_type": "execute_result"
    }
   ],
   "source": [
    "df_titanic = pd.read_csv('titanic.csv')\n",
    "df_titanic.head()"
   ]
  },
  {
   "cell_type": "markdown",
   "metadata": {
    "slideshow": {
     "slide_type": "subslide"
    }
   },
   "source": [
    "### Check Data Quality\n",
    "Check data quality. Most common check is to check missing values. We can do some basic data cleaning like cleaning up currency field.\n",
    "- Check null values\n",
    "- Currency field need to be converted to float, remove '$' or ',', sometimes negative value is enclosed in ()\n"
   ]
  },
  {
   "cell_type": "markdown",
   "metadata": {},
   "source": [
    "##### Task1: Check out Basic Dataframe Info\n",
    "\n",
    "Hint: info() function.\n",
    "\n",
    "Discuss missing values in the dataframe."
   ]
  },
  {
   "cell_type": "code",
   "execution_count": 3,
   "metadata": {
    "slideshow": {
     "slide_type": "slide"
    }
   },
   "outputs": [
    {
     "data": {
      "text/plain": [
       "(891, 12)"
      ]
     },
     "execution_count": 3,
     "metadata": {},
     "output_type": "execute_result"
    }
   ],
   "source": [
    "df_titanic.shape"
   ]
  },
  {
   "cell_type": "code",
   "execution_count": 4,
   "metadata": {},
   "outputs": [
    {
     "data": {
      "text/plain": [
       "PassengerId      0\n",
       "Survived         0\n",
       "Pclass           0\n",
       "Name             0\n",
       "Sex              0\n",
       "Age            177\n",
       "SibSp            0\n",
       "Parch            0\n",
       "Ticket           0\n",
       "Fare             0\n",
       "Cabin          687\n",
       "Embarked         2\n",
       "dtype: int64"
      ]
     },
     "execution_count": 4,
     "metadata": {},
     "output_type": "execute_result"
    }
   ],
   "source": [
    "# Check null values\n",
    "df_titanic.isnull().sum()"
   ]
  },
  {
   "cell_type": "code",
   "execution_count": 5,
   "metadata": {
    "scrolled": false,
    "slideshow": {
     "slide_type": "slide"
    }
   },
   "outputs": [
    {
     "name": "stdout",
     "output_type": "stream",
     "text": [
      "<class 'pandas.core.frame.DataFrame'>\n",
      "RangeIndex: 891 entries, 0 to 890\n",
      "Data columns (total 12 columns):\n",
      " #   Column       Non-Null Count  Dtype  \n",
      "---  ------       --------------  -----  \n",
      " 0   PassengerId  891 non-null    int64  \n",
      " 1   Survived     891 non-null    int64  \n",
      " 2   Pclass       891 non-null    int64  \n",
      " 3   Name         891 non-null    object \n",
      " 4   Sex          891 non-null    object \n",
      " 5   Age          714 non-null    float64\n",
      " 6   SibSp        891 non-null    int64  \n",
      " 7   Parch        891 non-null    int64  \n",
      " 8   Ticket       891 non-null    object \n",
      " 9   Fare         891 non-null    object \n",
      " 10  Cabin        204 non-null    object \n",
      " 11  Embarked     889 non-null    object \n",
      "dtypes: float64(1), int64(5), object(6)\n",
      "memory usage: 83.7+ KB\n"
     ]
    }
   ],
   "source": [
    "df_titanic.info()"
   ]
  },
  {
   "cell_type": "markdown",
   "metadata": {
    "slideshow": {
     "slide_type": "subslide"
    }
   },
   "source": [
    "#### Discussion\n",
    "The dataset has 891 entries (rows) and 12 columns. Of the 12 columns, only Age, Cabin, and Embarked have missing values, although it was observed that Fare column is not in a valid datatype for our analysis.\n",
    "1. **Age:**\n",
    "   - There are 714 non-null entries, indicating that there are missing values (891 - 714 = 177) in the \"Age\" column.\n",
    "   - Considering replacing the missing values with the mean or median which ever is a better representation of central tendency.\n",
    "\n",
    "2. **Cabin:**\n",
    "   - There are only 204 non-null entries, indicating that a large number of values are missing in the \"Cabin\" column (891 - 204 = 687).\n",
    "   - It is likely that not all passengers had assigned cabins.\n",
    "   - Considering dropping the Cabin column as it is not relevant for this analytic process.\n",
    "\n",
    "3. **Embarked:**\n",
    "   - There are 889 non-null entries, indicating that there are two missing values in the \"Embarked\" column (891 - 889 = 2).\n",
    "   - Considering replacing the missing values with the median.\n",
    "\n",
    "4. **Fare:**\n",
    "   - The \"Fare\" column has 891 non-null entries, but its Dtype is listed as \"object\" instead of the numerical type float64. \n",
    "   - Currency field need to be converted to float, remove '$' or ',', considering sometimes negative value is enclosed in ()\n"
   ]
  },
  {
   "cell_type": "code",
   "execution_count": 6,
   "metadata": {},
   "outputs": [],
   "source": [
    "# Filling the missing age values with median\n",
    "median = df_titanic['Age'].median()\n",
    "df_titanic['Age'].fillna(median, inplace=True)"
   ]
  },
  {
   "cell_type": "code",
   "execution_count": 7,
   "metadata": {},
   "outputs": [],
   "source": [
    "# Drop the cabin column\n",
    "df_titanic.drop('Cabin', axis=1, inplace=True)"
   ]
  },
  {
   "cell_type": "code",
   "execution_count": 8,
   "metadata": {},
   "outputs": [],
   "source": [
    "# Filling missing values in Embarked column with mode of the categories.\n",
    "mode = df_titanic['Embarked'].mode()[0]\n",
    "df_titanic['Embarked'].fillna(mode, inplace=True)\n"
   ]
  },
  {
   "cell_type": "code",
   "execution_count": 9,
   "metadata": {},
   "outputs": [
    {
     "data": {
      "text/plain": [
       "PassengerId    0\n",
       "Survived       0\n",
       "Pclass         0\n",
       "Name           0\n",
       "Sex            0\n",
       "Age            0\n",
       "SibSp          0\n",
       "Parch          0\n",
       "Ticket         0\n",
       "Fare           0\n",
       "Embarked       0\n",
       "dtype: int64"
      ]
     },
     "execution_count": 9,
     "metadata": {},
     "output_type": "execute_result"
    }
   ],
   "source": [
    "# Recheck for missing values\n",
    "df_titanic.isna().sum()"
   ]
  },
  {
   "cell_type": "markdown",
   "metadata": {
    "slideshow": {
     "slide_type": "slide"
    }
   },
   "source": [
    "##### Task2: Clean up Fare, Convert to Float\n",
    "Strip \"$\" from Fare, convert datatype to float."
   ]
  },
  {
   "cell_type": "code",
   "execution_count": 10,
   "metadata": {
    "scrolled": true,
    "slideshow": {
     "slide_type": "subslide"
    }
   },
   "outputs": [
    {
     "data": {
      "text/plain": [
       "0     7.2500\n",
       "1    71.2833\n",
       "2     7.9250\n",
       "3    53.1000\n",
       "4     8.0500\n",
       "Name: Fare, dtype: float64"
      ]
     },
     "execution_count": 10,
     "metadata": {},
     "output_type": "execute_result"
    }
   ],
   "source": [
    "from typing import Type\n",
    "from pandas import DataFrame\n",
    "\n",
    "def stripper(df: DataFrame, column: str, strip: str) -> None:\n",
    "    \"\"\"\n",
    "    The function takes in a dataframe, a column and a strip string. \n",
    "    It strips the strip string from the dataframe column by replacing it with an empty string \n",
    "    It also handles negative values in () format\n",
    "\n",
    "    Parameters: df, column, strip\n",
    "    \"\"\"\n",
    "    if  df[column].dtype == 'O':\n",
    "        df[column] = (\n",
    "                        df[column]\n",
    "                        .str.replace('(', '-')\n",
    "                        .str.replace(')',  '')\n",
    "                        .str.replace(strip,'')\n",
    "                     )\n",
    "        \n",
    "def datatyper(df: DataFrame, column: str, data_type: Type) -> None:\n",
    "    \"\"\"\n",
    "    The function takes in a dataframe, a column and a data_type. \n",
    "    It assigns the datatype to the dataframe column\n",
    "\n",
    "    Parameters: df, column, type\n",
    "    \"\"\"\n",
    "    df[column] = df[column].astype(data_type)\n",
    "    \n",
    "\n",
    "# Strip '$' from Fare and account for negative values enclosed in ()\n",
    "stripper(df_titanic, 'Fare', '$')\n",
    "\n",
    "# Convert datatype to float\n",
    "datatyper(df_titanic, 'Fare', 'float64')\n",
    "\n",
    "\n",
    "df_titanic['Fare'].head()"
   ]
  },
  {
   "cell_type": "markdown",
   "metadata": {
    "slideshow": {
     "slide_type": "slide"
    }
   },
   "source": [
    "##### Task3: Check out statistics of Numeric Columns\n",
    "\n",
    "Hint:describe() function.\n",
    "\n",
    "Discuss:\n",
    "- Age, SibSp, Parch, Fare statistics\n",
    "- What does mean Survived mean?"
   ]
  },
  {
   "cell_type": "code",
   "execution_count": 11,
   "metadata": {
    "scrolled": true,
    "slideshow": {
     "slide_type": "subslide"
    }
   },
   "outputs": [
    {
     "data": {
      "text/plain": [
       "['PassengerId', 'Survived', 'Pclass', 'Age', 'SibSp', 'Parch', 'Fare']"
      ]
     },
     "execution_count": 11,
     "metadata": {},
     "output_type": "execute_result"
    }
   ],
   "source": [
    "# Create a list of the numeric columns\n",
    "numerics = [column for column in df_titanic.columns if df_titanic[column].dtype != \"O\"]\n",
    "numerics\n"
   ]
  },
  {
   "cell_type": "markdown",
   "metadata": {
    "slideshow": {
     "slide_type": "subslide"
    }
   },
   "source": [
    "**In this numerics list, PassengerId should be index. Pclass should be categorical**"
   ]
  },
  {
   "cell_type": "code",
   "execution_count": 12,
   "metadata": {
    "slideshow": {
     "slide_type": "subslide"
    }
   },
   "outputs": [
    {
     "name": "stdout",
     "output_type": "stream",
     "text": [
      "<class 'pandas.core.frame.DataFrame'>\n",
      "Index: 891 entries, 1 to 891\n",
      "Data columns (total 10 columns):\n",
      " #   Column    Non-Null Count  Dtype   \n",
      "---  ------    --------------  -----   \n",
      " 0   Survived  891 non-null    int64   \n",
      " 1   Pclass    891 non-null    category\n",
      " 2   Name      891 non-null    object  \n",
      " 3   Sex       891 non-null    object  \n",
      " 4   Age       891 non-null    float64 \n",
      " 5   SibSp     891 non-null    int64   \n",
      " 6   Parch     891 non-null    int64   \n",
      " 7   Ticket    891 non-null    object  \n",
      " 8   Fare      891 non-null    float64 \n",
      " 9   Embarked  891 non-null    object  \n",
      "dtypes: category(1), float64(2), int64(3), object(4)\n",
      "memory usage: 70.6+ KB\n"
     ]
    }
   ],
   "source": [
    "# Set Index as PassengerId\n",
    "df_titanic = df_titanic.set_index('PassengerId') if 'PassengerId' in df_titanic.columns else df_titanic\n",
    "\n",
    "# Set Pclass column as categorical\n",
    "datatyper(df_titanic, 'Pclass', 'category')\n",
    "\n",
    "df_titanic.info()"
   ]
  },
  {
   "cell_type": "code",
   "execution_count": 13,
   "metadata": {},
   "outputs": [
    {
     "data": {
      "text/html": [
       "<div>\n",
       "<style scoped>\n",
       "    .dataframe tbody tr th:only-of-type {\n",
       "        vertical-align: middle;\n",
       "    }\n",
       "\n",
       "    .dataframe tbody tr th {\n",
       "        vertical-align: top;\n",
       "    }\n",
       "\n",
       "    .dataframe thead th {\n",
       "        text-align: right;\n",
       "    }\n",
       "</style>\n",
       "<table border=\"1\" class=\"dataframe\">\n",
       "  <thead>\n",
       "    <tr style=\"text-align: right;\">\n",
       "      <th></th>\n",
       "      <th>count</th>\n",
       "      <th>mean</th>\n",
       "      <th>std</th>\n",
       "      <th>min</th>\n",
       "      <th>25%</th>\n",
       "      <th>50%</th>\n",
       "      <th>75%</th>\n",
       "      <th>max</th>\n",
       "    </tr>\n",
       "  </thead>\n",
       "  <tbody>\n",
       "    <tr>\n",
       "      <th>Survived</th>\n",
       "      <td>891.0</td>\n",
       "      <td>0.383838</td>\n",
       "      <td>0.486592</td>\n",
       "      <td>0.00</td>\n",
       "      <td>0.0000</td>\n",
       "      <td>0.0000</td>\n",
       "      <td>1.0</td>\n",
       "      <td>1.0000</td>\n",
       "    </tr>\n",
       "    <tr>\n",
       "      <th>Age</th>\n",
       "      <td>891.0</td>\n",
       "      <td>29.361582</td>\n",
       "      <td>13.019697</td>\n",
       "      <td>0.42</td>\n",
       "      <td>22.0000</td>\n",
       "      <td>28.0000</td>\n",
       "      <td>35.0</td>\n",
       "      <td>80.0000</td>\n",
       "    </tr>\n",
       "    <tr>\n",
       "      <th>SibSp</th>\n",
       "      <td>891.0</td>\n",
       "      <td>0.523008</td>\n",
       "      <td>1.102743</td>\n",
       "      <td>0.00</td>\n",
       "      <td>0.0000</td>\n",
       "      <td>0.0000</td>\n",
       "      <td>1.0</td>\n",
       "      <td>8.0000</td>\n",
       "    </tr>\n",
       "    <tr>\n",
       "      <th>Parch</th>\n",
       "      <td>891.0</td>\n",
       "      <td>0.381594</td>\n",
       "      <td>0.806057</td>\n",
       "      <td>0.00</td>\n",
       "      <td>0.0000</td>\n",
       "      <td>0.0000</td>\n",
       "      <td>0.0</td>\n",
       "      <td>6.0000</td>\n",
       "    </tr>\n",
       "    <tr>\n",
       "      <th>Fare</th>\n",
       "      <td>891.0</td>\n",
       "      <td>32.204208</td>\n",
       "      <td>49.693429</td>\n",
       "      <td>0.00</td>\n",
       "      <td>7.9104</td>\n",
       "      <td>14.4542</td>\n",
       "      <td>31.0</td>\n",
       "      <td>512.3292</td>\n",
       "    </tr>\n",
       "  </tbody>\n",
       "</table>\n",
       "</div>"
      ],
      "text/plain": [
       "          count       mean        std   min      25%      50%   75%       max\n",
       "Survived  891.0   0.383838   0.486592  0.00   0.0000   0.0000   1.0    1.0000\n",
       "Age       891.0  29.361582  13.019697  0.42  22.0000  28.0000  35.0   80.0000\n",
       "SibSp     891.0   0.523008   1.102743  0.00   0.0000   0.0000   1.0    8.0000\n",
       "Parch     891.0   0.381594   0.806057  0.00   0.0000   0.0000   0.0    6.0000\n",
       "Fare      891.0  32.204208  49.693429  0.00   7.9104  14.4542  31.0  512.3292"
      ]
     },
     "execution_count": 13,
     "metadata": {},
     "output_type": "execute_result"
    }
   ],
   "source": [
    "df_titanic.describe().T"
   ]
  },
  {
   "cell_type": "markdown",
   "metadata": {},
   "source": [
    "#### Discussion\n",
    "\n",
    "Certainly! Let's discuss the statistics for the columns 'Age', 'SibSp', 'Parch', and 'Fare' in the context of the provided information. Additionally, I'll provide some insights on what \"Survived\" means:\n",
    "\n",
    "1. **Age:**\n",
    "   - A cound of 714 non-null entries, indicating that there are missing values..\n",
    "   - The ages of passengers vary widely, with a mean age is approximately 29.70 years and range 0.42 to 80.00 years. Although the mean(29.7) and the median(28.0) are close.\n",
    "\n",
    "2. **SibSp (Number of Siblings/Spouses aboard):**\n",
    "   - The majority of passengers have either no siblings or spouses aboard (Q2 and Q3 at 0 and 1, respectively). The maximum value of 8 indicates some passengers had a relatively large number of siblings or spouses.\n",
    "\n",
    "3. **Parch (Number of Parents/Children aboard):**\n",
    "   - Most passengers did not have parents or children aboard (Q1, Q2, and Q3 at 0). However, some passengers had a larger number, with the maximum value being 6.\n",
    "\n",
    "4. **Fare:**\n",
    "   - The fares vary significantly, with a mean of approximately $32.20. The standard deviation is relatively high, indicating a wide range of fare values. The minimum fare is 0.00, which might represent missing or free tickets, and the maximum is 512.33.\n",
    "\n",
    "5. **Survived:** This is a binary column where 1 implies passenger survived and 0 implies passenger did not.\n",
    "    - **Mean:** The mean is approximately 0.38, suggesting that around 38% of the passengers in the dataset survived.\n",
    "    - **Standard Deviation:** The standard deviation is approximately 0.49, indicating some variability in survival outcomes.\n",
    "    - **Minimum:** The minimum value is 0, which means that some passengers did not survive.\n",
    "    - **25th Percentile & Median (50th Percentile):** Is 0, reinforcing the observation that a significant portion of passengers did not survive.\n",
    "    - **Maximum:** The maximum value is 1, meaning that some passengers did survive.\n"
   ]
  },
  {
   "cell_type": "markdown",
   "metadata": {},
   "source": [
    "### Exploratory Data Analysis - EDA\n",
    "EDA is an approach to analyzing data sets to summarize their main characteristics, often with visual methods.\n",
    "\n",
    "#### Types Of Features\n",
    "##### Categorical Features:\n",
    "A categorical variable is one that has two or more categories and each value in that feature can be categorised by them.For example, gender is a categorical variable having two categories (male and female). Now we cannot sort or give any ordering to such variables. They are also known as Nominal Variables.\n",
    "\n",
    "Categorical Features in the dataset: Sex,Embarked.\n",
    "\n",
    "##### Continous Feature:\n",
    "A feature is said to be continous if it can take values between any two points or between the minimum or maximum values in the features column.\n",
    "\n",
    "Continous Features in the dataset: Fare"
   ]
  },
  {
   "cell_type": "markdown",
   "metadata": {},
   "source": [
    "### Categorical Features\n",
    "We will analysis Survived as univariant. Relationship between Sex and Survival, Embarked and Survival.\n",
    "\n",
    "#### How many survived\n",
    "Bar chart on Survived column. There are multiple ways to do the bar chart. We will demonstrate 2 ways here, seaborn countplot and pandas series bar."
   ]
  },
  {
   "cell_type": "markdown",
   "metadata": {},
   "source": [
    "##### Task4: Plot bar chart for Perished vs. Survived\n",
    "Plot bar chart for Survived column. Survived=0 means perished, Survived=1 means Survived."
   ]
  },
  {
   "cell_type": "code",
   "execution_count": 29,
   "metadata": {
    "slideshow": {
     "slide_type": "fragment"
    }
   },
   "outputs": [],
   "source": [
    "# from pandas import Series\n",
    "\n",
    "# def plot_text(data: DataFrame | Series, groupby: Series = Series(), x_offset: int = 0) -> DataFrame | Series:\n",
    "#     \"\"\"\n",
    "#     The function takes in a series or a dataframe data. If passing a dataframe, a groupby series is necesary.\n",
    "#     It then plots data labels as plt.text.\n",
    "\n",
    "#     Parameter: data, groupby, x_offset\n",
    "#     \"\"\"\n",
    "#     if isinstance(data, DataFrame):\n",
    "#         plot_data = groupby\n",
    "#     else:\n",
    "#         plot_data = data\n",
    "        \n",
    "#     for x,y in enumerate(plot_data):\n",
    "#         label = f'{y:,.0f}'\n",
    "#         p = y//2\n",
    "#         plt.text(x+x_offset, p, label, ha='center')\n",
    "#     return data\n",
    "\n",
    "# def handle_plot_text(x, groupby, column, offset=-0.2, sort=False):\n",
    "#     \"\"\"\n",
    "#     This function handles group plot text and returns data from plot_text\n",
    "\n",
    "#     Parameter: \n",
    "#         x, groupby, column\n",
    "\n",
    "#     Returns:\n",
    "#         data        \n",
    "#     \"\"\"\n",
    "#     for cat in x[column].astype('category').cat.categories:\n",
    "#         data = plot_text(x, \n",
    "#                   x.groupby(groupby)[column].apply(lambda xx: (xx == cat).sum()).sort_index(ascending=sort),  \n",
    "#                   offset\n",
    "#                  )\n",
    "#         offset = -offset\n",
    "#     return data\n"
   ]
  },
  {
   "cell_type": "code",
   "execution_count": 15,
   "metadata": {},
   "outputs": [],
   "source": [
    "def plot_labels(bar_plot: plt.Axes, fmt: str = '{:.0f}') -> plt.Axes:\n",
    "    \"\"\"\n",
    "    The function takes in a bar plot.\n",
    "    It then plots data labels for each container in the bar plot containers.\n",
    "    And returns the bar_plot to allow chaining to other functions\n",
    "\n",
    "    Parameter: bar_plot\n",
    "    \n",
    "    Return: bar_plot\n",
    "    \"\"\"\n",
    "    for container in bar_plot.containers:\n",
    "        bar_plot.bar_label(container, label_type='edge', fmt=fmt)\n",
    "        \n",
    "    return bar_plot"
   ]
  },
  {
   "cell_type": "markdown",
   "metadata": {},
   "source": [
    "#### Using Series Bar"
   ]
  },
  {
   "cell_type": "code",
   "execution_count": 16,
   "metadata": {},
   "outputs": [
    {
     "data": {
      "image/png": "[encoded data removed]",
      "text/plain": [
       "<Figure size 640x480 with 1 Axes>"
      ]
     },
     "metadata": {},
     "output_type": "display_data"
    }
   ],
   "source": [
    "# Pandas Series Bar\n",
    "# Create a figure and axes\n",
    "fig, ax = plt.subplots()\n",
    "\n",
    "# Bar Colors\n",
    "bar_colors = ['red', 'green']\n",
    "\n",
    "plot_survived = (\n",
    "    df_titanic\n",
    "    .groupby('Survived')['Survived']\n",
    "    .count()    \n",
    "    .rename({0: 'perished', 1: 'survived'})\n",
    "    .rename_axis('Perished vs. Survived')\n",
    "    .plot(kind='bar', rot=0, color=bar_colors, ax=ax)\n",
    ")\n",
    "\n",
    "# Adding a title to the plot\n",
    "ax.set_title('Perished vs. Survived')\n",
    "\n",
    "# Remove x-label\n",
    "ax.set_xlabel('')\n",
    "\n",
    "# Add labels to the bars\n",
    "plot_labels(plot_survived)\n",
    "\n",
    "# Display the plot\n",
    "plt.show()"
   ]
  },
  {
   "cell_type": "markdown",
   "metadata": {},
   "source": [
    "### Using seaborn"
   ]
  },
  {
   "cell_type": "code",
   "execution_count": 17,
   "metadata": {},
   "outputs": [
    {
     "data": {
      "image/png": "[encoded data removed]",
      "text/plain": [
       "<Figure size 640x480 with 1 Axes>"
      ]
     },
     "metadata": {},
     "output_type": "display_data"
    }
   ],
   "source": [
    "# Using seaborn\n",
    "import seaborn as sns\n",
    "import matplotlib.pyplot as plt\n",
    "\n",
    "# Survived labels\n",
    "labels = ['Perished', 'Survived']\n",
    "\n",
    "# Create a figure and axes\n",
    "fig, ax = plt.subplots()\n",
    "\n",
    "# Palette\n",
    "palette = sns.color_palette(palette='prism_r')\n",
    "\n",
    "# Creating the seaborn plot from the resultant series\n",
    "seaborn_plot = sns.countplot(data=df_titanic, x='Survived', hue='Survived', palette=palette)\n",
    "\n",
    "# Add labels to the bars\n",
    "plot_labels(seaborn_plot)\n",
    "\n",
    "# Rename and rotate x-axis labels\n",
    "plt.xticks([0, 1], labels, rotation=0)\n",
    "\n",
    "# Adding a title to the plot\n",
    "ax.set_title('Perished vs. Survived')\n",
    "\n",
    "# Remove x-label\n",
    "ax.set_xlabel('')\n",
    "\n",
    "# Add legend\n",
    "plt.legend(labels)\n",
    "\n",
    "# Display the plot\n",
    "plt.show()"
   ]
  },
  {
   "cell_type": "markdown",
   "metadata": {},
   "source": [
    "### Using plotly\n"
   ]
  },
  {
   "cell_type": "code",
   "execution_count": 55,
   "metadata": {},
   "outputs": [
    {
     "data": {
      "application/vnd.plotly.v1+json": {
       "config": {
        "plotlyServerURL": "https://plot.ly"
       },
       "data": [
        {
         "alignmentgroup": "True",
         "hovertemplate": "Survival status=%{x}<br>Count=%{y}<extra></extra>",
         "legendgroup": "Perished",
         "marker": {
          "color": "red",
          "pattern": {
           "shape": ""
          }
         },
         "name": "Perished",
         "offsetgroup": "Perished",
         "orientation": "v",
         "showlegend": true,
         "textposition": "auto",
         "type": "bar",
         "x": [
          "Perished"
         ],
         "xaxis": "x",
         "y": [
          549
         ],
         "yaxis": "y"
        },
        {
         "alignmentgroup": "True",
         "hovertemplate": "Survival status=%{x}<br>Count=%{y}<extra></extra>",
         "legendgroup": "Survived",
         "marker": {
          "color": "green",
          "pattern": {
           "shape": ""
          }
         },
         "name": "Survived",
         "offsetgroup": "Survived",
         "orientation": "v",
         "showlegend": true,
         "textposition": "auto",
         "type": "bar",
         "x": [
          "Survived"
         ],
         "xaxis": "x",
         "y": [
          342
         ],
         "yaxis": "y"
        }
       ],
       "layout": {
        "barmode": "relative",
        "legend": {
         "title": {
          "text": "Survival status"
         },
         "tracegroupgap": 0
        },
        "margin": {
         "t": 60
        },
        "template": {
         "data": {
          "bar": [
           {
            "error_x": {
             "color": "#2a3f5f"
            },
            "error_y": {
             "color": "#2a3f5f"
            },
            "marker": {
             "line": {
              "color": "#E5ECF6",
              "width": 0.5
             },
             "pattern": {
              "fillmode": "overlay",
              "size": 10,
              "solidity": 0.2
             }
            },
            "type": "bar"
           }
          ],
          "barpolar": [
           {
            "marker": {
             "line": {
              "color": "#E5ECF6",
              "width": 0.5
             },
             "pattern": {
              "fillmode": "overlay",
              "size": 10,
              "solidity": 0.2
             }
            },
            "type": "barpolar"
           }
          ],
          "carpet": [
           {
            "aaxis": {
             "endlinecolor": "#2a3f5f",
             "gridcolor": "white",
             "linecolor": "white",
             "minorgridcolor": "white",
             "startlinecolor": "#2a3f5f"
            },
            "baxis": {
             "endlinecolor": "#2a3f5f",
             "gridcolor": "white",
             "linecolor": "white",
             "minorgridcolor": "white",
             "startlinecolor": "#2a3f5f"
            },
            "type": "carpet"
           }
          ],
          "choropleth": [
           {
            "colorbar": {
             "outlinewidth": 0,
             "ticks": ""
            },
            "type": "choropleth"
           }
          ],
          "contour": [
           {
            "colorbar": {
             "outlinewidth": 0,
             "ticks": ""
            },
            "colorscale": [
             [
              0,
              "#0d0887"
             ],
             [
              0.1111111111111111,
              "#46039f"
             ],
             [
              0.2222222222222222,
              "#7201a8"
             ],
             [
              0.3333333333333333,
              "#9c179e"
             ],
             [
              0.4444444444444444,
              "#bd3786"
             ],
             [
              0.5555555555555556,
              "#d8576b"
             ],
             [
              0.6666666666666666,
              "#ed7953"
             ],
             [
              0.7777777777777778,
              "#fb9f3a"
             ],
             [
              0.8888888888888888,
              "#fdca26"
             ],
             [
              1,
              "#f0f921"
             ]
            ],
            "type": "contour"
           }
          ],
          "contourcarpet": [
           {
            "colorbar": {
             "outlinewidth": 0,
             "ticks": ""
            },
            "type": "contourcarpet"
           }
          ],
          "heatmap": [
           {
            "colorbar": {
             "outlinewidth": 0,
             "ticks": ""
            },
            "colorscale": [
             [
              0,
              "#0d0887"
             ],
             [
              0.1111111111111111,
              "#46039f"
             ],
             [
              0.2222222222222222,
              "#7201a8"
             ],
             [
              0.3333333333333333,
              "#9c179e"
             ],
             [
              0.4444444444444444,
              "#bd3786"
             ],
             [
              0.5555555555555556,
              "#d8576b"
             ],
             [
              0.6666666666666666,
              "#ed7953"
             ],
             [
              0.7777777777777778,
              "#fb9f3a"
             ],
             [
              0.8888888888888888,
              "#fdca26"
             ],
             [
              1,
              "#f0f921"
             ]
            ],
            "type": "heatmap"
           }
          ],
          "heatmapgl": [
           {
            "colorbar": {
             "outlinewidth": 0,
             "ticks": ""
            },
            "colorscale": [
             [
              0,
              "#0d0887"
             ],
             [
              0.1111111111111111,
              "#46039f"
             ],
             [
              0.2222222222222222,
              "#7201a8"
             ],
             [
              0.3333333333333333,
              "#9c179e"
             ],
             [
              0.4444444444444444,
              "#bd3786"
             ],
             [
              0.5555555555555556,
              "#d8576b"
             ],
             [
              0.6666666666666666,
              "#ed7953"
             ],
             [
              0.7777777777777778,
              "#fb9f3a"
             ],
             [
              0.8888888888888888,
              "#fdca26"
             ],
             [
              1,
              "#f0f921"
             ]
            ],
            "type": "heatmapgl"
           }
          ],
          "histogram": [
           {
            "marker": {
             "pattern": {
              "fillmode": "overlay",
              "size": 10,
              "solidity": 0.2
             }
            },
            "type": "histogram"
           }
          ],
          "histogram2d": [
           {
            "colorbar": {
             "outlinewidth": 0,
             "ticks": ""
            },
            "colorscale": [
             [
              0,
              "#0d0887"
             ],
             [
              0.1111111111111111,
              "#46039f"
             ],
             [
              0.2222222222222222,
              "#7201a8"
             ],
             [
              0.3333333333333333,
              "#9c179e"
             ],
             [
              0.4444444444444444,
              "#bd3786"
             ],
             [
              0.5555555555555556,
              "#d8576b"
             ],
             [
              0.6666666666666666,
              "#ed7953"
             ],
             [
              0.7777777777777778,
              "#fb9f3a"
             ],
             [
              0.8888888888888888,
              "#fdca26"
             ],
             [
              1,
              "#f0f921"
             ]
            ],
            "type": "histogram2d"
           }
          ],
          "histogram2dcontour": [
           {
            "colorbar": {
             "outlinewidth": 0,
             "ticks": ""
            },
            "colorscale": [
             [
              0,
              "#0d0887"
             ],
             [
              0.1111111111111111,
              "#46039f"
             ],
             [
              0.2222222222222222,
              "#7201a8"
             ],
             [
              0.3333333333333333,
              "#9c179e"
             ],
             [
              0.4444444444444444,
              "#bd3786"
             ],
             [
              0.5555555555555556,
              "#d8576b"
             ],
             [
              0.6666666666666666,
              "#ed7953"
             ],
             [
              0.7777777777777778,
              "#fb9f3a"
             ],
             [
              0.8888888888888888,
              "#fdca26"
             ],
             [
              1,
              "#f0f921"
             ]
            ],
            "type": "histogram2dcontour"
           }
          ],
          "mesh3d": [
           {
            "colorbar": {
             "outlinewidth": 0,
             "ticks": ""
            },
            "type": "mesh3d"
           }
          ],
          "parcoords": [
           {
            "line": {
             "colorbar": {
              "outlinewidth": 0,
              "ticks": ""
             }
            },
            "type": "parcoords"
           }
          ],
          "pie": [
           {
            "automargin": true,
            "type": "pie"
           }
          ],
          "scatter": [
           {
            "fillpattern": {
             "fillmode": "overlay",
             "size": 10,
             "solidity": 0.2
            },
            "type": "scatter"
           }
          ],
          "scatter3d": [
           {
            "line": {
             "colorbar": {
              "outlinewidth": 0,
              "ticks": ""
             }
            },
            "marker": {
             "colorbar": {
              "outlinewidth": 0,
              "ticks": ""
             }
            },
            "type": "scatter3d"
           }
          ],
          "scattercarpet": [
           {
            "marker": {
             "colorbar": {
              "outlinewidth": 0,
              "ticks": ""
             }
            },
            "type": "scattercarpet"
           }
          ],
          "scattergeo": [
           {
            "marker": {
             "colorbar": {
              "outlinewidth": 0,
              "ticks": ""
             }
            },
            "type": "scattergeo"
           }
          ],
          "scattergl": [
           {
            "marker": {
             "colorbar": {
              "outlinewidth": 0,
              "ticks": ""
             }
            },
            "type": "scattergl"
           }
          ],
          "scattermapbox": [
           {
            "marker": {
             "colorbar": {
              "outlinewidth": 0,
              "ticks": ""
             }
            },
            "type": "scattermapbox"
           }
          ],
          "scatterpolar": [
           {
            "marker": {
             "colorbar": {
              "outlinewidth": 0,
              "ticks": ""
             }
            },
            "type": "scatterpolar"
           }
          ],
          "scatterpolargl": [
           {
            "marker": {
             "colorbar": {
              "outlinewidth": 0,
              "ticks": ""
             }
            },
            "type": "scatterpolargl"
           }
          ],
          "scatterternary": [
           {
            "marker": {
             "colorbar": {
              "outlinewidth": 0,
              "ticks": ""
             }
            },
            "type": "scatterternary"
           }
          ],
          "surface": [
           {
            "colorbar": {
             "outlinewidth": 0,
             "ticks": ""
            },
            "colorscale": [
             [
              0,
              "#0d0887"
             ],
             [
              0.1111111111111111,
              "#46039f"
             ],
             [
              0.2222222222222222,
              "#7201a8"
             ],
             [
              0.3333333333333333,
              "#9c179e"
             ],
             [
              0.4444444444444444,
              "#bd3786"
             ],
             [
              0.5555555555555556,
              "#d8576b"
             ],
             [
              0.6666666666666666,
              "#ed7953"
             ],
             [
              0.7777777777777778,
              "#fb9f3a"
             ],
             [
              0.8888888888888888,
              "#fdca26"
             ],
             [
              1,
              "#f0f921"
             ]
            ],
            "type": "surface"
           }
          ],
          "table": [
           {
            "cells": {
             "fill": {
              "color": "#EBF0F8"
             },
             "line": {
              "color": "white"
             }
            },
            "header": {
             "fill": {
              "color": "#C8D4E3"
             },
             "line": {
              "color": "white"
             }
            },
            "type": "table"
           }
          ]
         },
         "layout": {
          "annotationdefaults": {
           "arrowcolor": "#2a3f5f",
           "arrowhead": 0,
           "arrowwidth": 1
          },
          "autotypenumbers": "strict",
          "coloraxis": {
           "colorbar": {
            "outlinewidth": 0,
            "ticks": ""
           }
          },
          "colorscale": {
           "diverging": [
            [
             0,
             "#8e0152"
            ],
            [
             0.1,
             "#c51b7d"
            ],
            [
             0.2,
             "#de77ae"
            ],
            [
             0.3,
             "#f1b6da"
            ],
            [
             0.4,
             "#fde0ef"
            ],
            [
             0.5,
             "#f7f7f7"
            ],
            [
             0.6,
             "#e6f5d0"
            ],
            [
             0.7,
             "#b8e186"
            ],
            [
             0.8,
             "#7fbc41"
            ],
            [
             0.9,
             "#4d9221"
            ],
            [
             1,
             "#276419"
            ]
           ],
           "sequential": [
            [
             0,
             "#0d0887"
            ],
            [
             0.1111111111111111,
             "#46039f"
            ],
            [
             0.2222222222222222,
             "#7201a8"
            ],
            [
             0.3333333333333333,
             "#9c179e"
            ],
            [
             0.4444444444444444,
             "#bd3786"
            ],
            [
             0.5555555555555556,
             "#d8576b"
            ],
            [
             0.6666666666666666,
             "#ed7953"
            ],
            [
             0.7777777777777778,
             "#fb9f3a"
            ],
            [
             0.8888888888888888,
             "#fdca26"
            ],
            [
             1,
             "#f0f921"
            ]
           ],
           "sequentialminus": [
            [
             0,
             "#0d0887"
            ],
            [
             0.1111111111111111,
             "#46039f"
            ],
            [
             0.2222222222222222,
             "#7201a8"
            ],
            [
             0.3333333333333333,
             "#9c179e"
            ],
            [
             0.4444444444444444,
             "#bd3786"
            ],
            [
             0.5555555555555556,
             "#d8576b"
            ],
            [
             0.6666666666666666,
             "#ed7953"
            ],
            [
             0.7777777777777778,
             "#fb9f3a"
            ],
            [
             0.8888888888888888,
             "#fdca26"
            ],
            [
             1,
             "#f0f921"
            ]
           ]
          },
          "colorway": [
           "#636efa",
           "#EF553B",
           "#00cc96",
           "#ab63fa",
           "#FFA15A",
           "#19d3f3",
           "#FF6692",
           "#B6E880",
           "#FF97FF",
           "#FECB52"
          ],
          "font": {
           "color": "#2a3f5f"
          },
          "geo": {
           "bgcolor": "white",
           "lakecolor": "white",
           "landcolor": "#E5ECF6",
           "showlakes": true,
           "showland": true,
           "subunitcolor": "white"
          },
          "hoverlabel": {
           "align": "left"
          },
          "hovermode": "closest",
          "mapbox": {
           "style": "light"
          },
          "paper_bgcolor": "white",
          "plot_bgcolor": "#E5ECF6",
          "polar": {
           "angularaxis": {
            "gridcolor": "white",
            "linecolor": "white",
            "ticks": ""
           },
           "bgcolor": "#E5ECF6",
           "radialaxis": {
            "gridcolor": "white",
            "linecolor": "white",
            "ticks": ""
           }
          },
          "scene": {
           "xaxis": {
            "backgroundcolor": "#E5ECF6",
            "gridcolor": "white",
            "gridwidth": 2,
            "linecolor": "white",
            "showbackground": true,
            "ticks": "",
            "zerolinecolor": "white"
           },
           "yaxis": {
            "backgroundcolor": "#E5ECF6",
            "gridcolor": "white",
            "gridwidth": 2,
            "linecolor": "white",
            "showbackground": true,
            "ticks": "",
            "zerolinecolor": "white"
           },
           "zaxis": {
            "backgroundcolor": "#E5ECF6",
            "gridcolor": "white",
            "gridwidth": 2,
            "linecolor": "white",
            "showbackground": true,
            "ticks": "",
            "zerolinecolor": "white"
           }
          },
          "shapedefaults": {
           "line": {
            "color": "#2a3f5f"
           }
          },
          "ternary": {
           "aaxis": {
            "gridcolor": "white",
            "linecolor": "white",
            "ticks": ""
           },
           "baxis": {
            "gridcolor": "white",
            "linecolor": "white",
            "ticks": ""
           },
           "bgcolor": "#E5ECF6",
           "caxis": {
            "gridcolor": "white",
            "linecolor": "white",
            "ticks": ""
           }
          },
          "title": {
           "x": 0.05
          },
          "xaxis": {
           "automargin": true,
           "gridcolor": "white",
           "linecolor": "white",
           "ticks": "",
           "title": {
            "standoff": 15
           },
           "zerolinecolor": "white",
           "zerolinewidth": 2
          },
          "yaxis": {
           "automargin": true,
           "gridcolor": "white",
           "linecolor": "white",
           "ticks": "",
           "title": {
            "standoff": 15
           },
           "zerolinecolor": "white",
           "zerolinewidth": 2
          }
         }
        },
        "title": {
         "text": "Perished vs. Survived"
        },
        "width": 600,
        "xaxis": {
         "anchor": "y",
         "categoryarray": [
          "Perished",
          "Survived"
         ],
         "categoryorder": "array",
         "domain": [
          0,
          1
         ],
         "title": {
          "text": ""
         }
        },
        "yaxis": {
         "anchor": "x",
         "domain": [
          0,
          1
         ],
         "title": {
          "text": "Count"
         }
        }
       }
      }
     },
     "metadata": {},
     "output_type": "display_data"
    }
   ],
   "source": [
    "# Using plotly\n",
    "import plotly.express as px\n",
    "\n",
    "# Create the figure\n",
    "fig = (\n",
    "    df_titanic\n",
    "    .groupby('Survived')['Survived']\n",
    "    .count()\n",
    "    .rename({0: 'Perished', 1: 'Survived'})\n",
    "    .rename_axis('Survival status')\n",
    "    .reset_index(name='Count')\n",
    "    .pipe(px.bar, x='Survival status', y='Count', color='Survival status', color_discrete_sequence=[\"red\", \"green\"])\n",
    "    .update_layout(\n",
    "        title='Perished vs. Survived',\n",
    "        xaxis_title='',\n",
    "        width=600\n",
    "    )\n",
    ")\n",
    "\n",
    "# Display the figure\n",
    "fig.show()"
   ]
  },
  {
   "cell_type": "markdown",
   "metadata": {},
   "source": [
    "**There are 549 passengers that perished while 342 passengers survived.**"
   ]
  },
  {
   "cell_type": "markdown",
   "metadata": {},
   "source": [
    "#### Relationship between Sex and Survival\n",
    "We may use aggregation function or plot.\n",
    "\n",
    "Next 2 cells demonstate aggregate function.\n",
    "\n",
    "The following cell demonstrates bar plot and countplot.\n"
   ]
  },
  {
   "cell_type": "markdown",
   "metadata": {},
   "source": [
    "##### Task5: Plot Bar Chart on Number of Male and Female Passengers"
   ]
  },
  {
   "cell_type": "code",
   "execution_count": 18,
   "metadata": {},
   "outputs": [
    {
     "data": {
      "image/png": "[encoded data removed]",
      "text/plain": [
       "<Figure size 640x480 with 1 Axes>"
      ]
     },
     "metadata": {},
     "output_type": "display_data"
    }
   ],
   "source": [
    "# Bar chart on number of male and female passengers -  Series plot\n",
    "\n",
    "# Gender labels\n",
    "labels = ['Male', 'Female']\n",
    "\n",
    "# Create a figure and axes\n",
    "fig, ax = plt.subplots()\n",
    "\n",
    "gender_passengers = (\n",
    "    df_titanic\n",
    "    .groupby('Sex')['Sex']\n",
    "    .count()\n",
    "    .sort_index(ascending=False)\n",
    "    # .pipe(plot_text)\n",
    "    .plot(kind='bar', ax=ax)\n",
    ")\n",
    "\n",
    "# Rename and rotate x-axis labels\n",
    "plt.xticks([0, 1], labels, rotation=0)\n",
    "\n",
    "# Adding a title to the plot\n",
    "ax.set_title('Number of Male and Female Passengers')\n",
    "\n",
    "# Remove x-label\n",
    "ax.set_xlabel('')\n",
    "\n",
    "# Add labels to the bars\n",
    "plot_labels(gender_passengers)\n",
    "\n",
    "# Display the plot\n",
    "plt.show()"
   ]
  },
  {
   "cell_type": "markdown",
   "metadata": {},
   "source": [
    "**There were 577 male and 314 female passengers**"
   ]
  },
  {
   "cell_type": "markdown",
   "metadata": {},
   "source": [
    "##### Task6: Groupby Sex to Find Survival Rate of Male and Female"
   ]
  },
  {
   "cell_type": "code",
   "execution_count": 19,
   "metadata": {},
   "outputs": [
    {
     "data": {
      "text/plain": [
       "Sex\n",
       "female    74.203822\n",
       "male      18.890815\n",
       "Name: Survival_rate, dtype: float64"
      ]
     },
     "execution_count": 19,
     "metadata": {},
     "output_type": "execute_result"
    }
   ],
   "source": [
    "# Finding survival rate of male and female\n",
    "survival_rate = (\n",
    "    df_titanic\n",
    "    .groupby('Sex')['Survived']\n",
    "    .mean()\n",
    "    .pipe(lambda x: x * 100)\n",
    "    .rename('Survival_rate')\n",
    ")\n",
    "survival_rate"
   ]
  },
  {
   "cell_type": "code",
   "execution_count": 20,
   "metadata": {},
   "outputs": [
    {
     "data": {
      "image/png": "[encoded data removed]",
      "text/plain": [
       "<Figure size 640x480 with 1 Axes>"
      ]
     },
     "metadata": {},
     "output_type": "display_data"
    }
   ],
   "source": [
    "# Create a figure and axes\n",
    "fig, ax = plt.subplots()\n",
    "\n",
    "# Survival rate plot sr_plot\n",
    "sr_plot = survival_rate.plot(kind='bar')\n",
    "\n",
    "# Add labels to the bar plot\n",
    "plot_labels(sr_plot, fmt='{:.2f}%')\n",
    "\n",
    "# Gender labels\n",
    "labels = ['Male', 'Female']\n",
    "\n",
    "# Rename and rotate x-axis labels\n",
    "plt.xticks([0, 1], labels, rotation=0)\n",
    "\n",
    "# Adding a title to the plot\n",
    "ax.set_title('Survival rate Male and Female Passengers')\n",
    "\n",
    "# Set y-axis limits to stop at 100\n",
    "plt.ylim(0, 100)\n",
    "\n",
    "# Remove x-label\n",
    "ax.set_xlabel('')\n",
    "\n",
    "# Display the plot\n",
    "plt.show()"
   ]
  },
  {
   "cell_type": "markdown",
   "metadata": {},
   "source": [
    "**Survival rate is higher in females(74.20%) than males(18.89%)**"
   ]
  },
  {
   "cell_type": "markdown",
   "metadata": {},
   "source": [
    "##### Task7: Plot Perished vs. Survived Bar for Male and Female\n",
    "We will use seaborn countplot() again, but set argument `hue` to 'Survived'."
   ]
  },
  {
   "cell_type": "code",
   "execution_count": 21,
   "metadata": {
    "slideshow": {
     "slide_type": "fragment"
    }
   },
   "outputs": [],
   "source": [
    "# (\n",
    "#     df_titanic\n",
    "#     # .pipe(lambda x: handle_plot_text(x, 'Sex', 'Survived'))\n",
    "#     [['Sex', 'Survived']]\n",
    "#     .set_index('Survived')\n",
    "#     .rename({0: 'perished', 1: 'survived'})\n",
    "#     .rename_axis('Survival outcome')\n",
    "#     .reset_index()\n",
    "#     .set_index('Sex')\n",
    "#     .sort_index(ascending=False)\n",
    "#     .pipe(\n",
    "#         lambda x: sns.countplot(data=x, x='Sex', hue='Survival outcome')\n",
    "#     )\n",
    "#     .set(\n",
    "#         title='Perished vs. Survived for Male and Female',\n",
    "#         xlabel=''\n",
    "#     )\n",
    "# )"
   ]
  },
  {
   "cell_type": "code",
   "execution_count": 22,
   "metadata": {
    "scrolled": true
   },
   "outputs": [
    {
     "data": {
      "image/png": "[encoded data removed]",
      "text/plain": [
       "<Figure size 640x480 with 1 Axes>"
      ]
     },
     "metadata": {},
     "output_type": "display_data"
    }
   ],
   "source": [
    "# Using seaborn\n",
    "import seaborn as sns\n",
    "import matplotlib.pyplot as plt\n",
    "\n",
    "# Survived labels\n",
    "labels = ['Male', 'Female']\n",
    "\n",
    "# Legend\n",
    "legend = ['Perished', 'Survived']\n",
    "\n",
    "# Create a figure and axes\n",
    "fig, ax = plt.subplots()\n",
    "\n",
    "# Palette\n",
    "palette = sns.color_palette(palette='prism_r')\n",
    "\n",
    "# Creating the seaborn count plot\n",
    "seaborn_plot = sns.countplot(data=df_titanic, x='Sex', hue='Survived', palette=palette)\n",
    "\n",
    "# Add labels to the bars\n",
    "plot_labels(seaborn_plot)\n",
    "\n",
    "# Rename and rotate x-axis labels\n",
    "plt.xticks([0, 1], labels, rotation=0)\n",
    "\n",
    "# Adding a title to the plot\n",
    "ax.set_title('Perished vs. Survived for Male and Female')\n",
    "\n",
    "# Remove x-label\n",
    "ax.set_xlabel('')\n",
    "\n",
    "# Add legend\n",
    "plt.legend(legend)\n",
    "\n",
    "# Display the plot\n",
    "plt.show()\n"
   ]
  },
  {
   "cell_type": "markdown",
   "metadata": {},
   "source": [
    "**The number of men (577) on the ship is lot more than the number of women (314). Still the number of survived women (233) is over twice the number of survived males (109). Majority women survived while vast majority of men perished.**"
   ]
  },
  {
   "cell_type": "markdown",
   "metadata": {},
   "source": [
    "#### Pclass and Survival\n",
    "##### Task 8: List survival rate of each Pclass "
   ]
  },
  {
   "cell_type": "code",
   "execution_count": 23,
   "metadata": {},
   "outputs": [
    {
     "data": {
      "text/plain": [
       "Pclass\n",
       "1    62.962963\n",
       "2    47.282609\n",
       "3    24.236253\n",
       "Name: Survival_rate, dtype: float64"
      ]
     },
     "execution_count": 23,
     "metadata": {},
     "output_type": "execute_result"
    }
   ],
   "source": [
    "# Finding survival rate of each Pclass\n",
    "sr_pclass = (\n",
    "    df_titanic\n",
    "    .groupby('Pclass')['Survived']\n",
    "    .mean()\n",
    "    .pipe(lambda x: x * 100)\n",
    "    .rename('Survival_rate')\n",
    ")\n",
    "sr_pclass"
   ]
  },
  {
   "cell_type": "code",
   "execution_count": 24,
   "metadata": {},
   "outputs": [
    {
     "data": {
      "image/png": "[encoded data removed]",
      "text/plain": [
       "<Figure size 640x480 with 1 Axes>"
      ]
     },
     "metadata": {},
     "output_type": "display_data"
    }
   ],
   "source": [
    "# Using seaborn\n",
    "import seaborn as sns\n",
    "import matplotlib.pyplot as plt\n",
    "\n",
    "# Create a figure and axes\n",
    "fig, ax = plt.subplots()\n",
    "\n",
    "palette=sns.color_palette('PRGn_r')\n",
    "\n",
    "# Survival rate plot sr_plot\n",
    "sr_plot = sns.barplot(x=sr_pclass.index, y=sr_pclass.values, hue=sr_pclass.index, palette=palette)\n",
    "\n",
    "# Add labels to the bar plot\n",
    "plot_labels(sr_plot, fmt='{:.2f}%')\n",
    "\n",
    "# Rotate x-axis labels\n",
    "plt.xticks(rotation=0)\n",
    "\n",
    "# Adding a title to the plot\n",
    "ax.set_title('Survival rate for each Pclass')\n",
    "\n",
    "# Set y-axis limits to stop at 100\n",
    "plt.ylim(0, 100)\n",
    "\n",
    "# Display the plot\n",
    "plt.show()"
   ]
  },
  {
   "cell_type": "markdown",
   "metadata": {},
   "source": [
    "**The survival rate for Pclass 1, 2, and 3 are 62.96%, 47.28%, and 24.24% respectively.**"
   ]
  },
  {
   "cell_type": "markdown",
   "metadata": {},
   "source": [
    "##### Task 9: Plot Perished vs. Survived for each Pclass"
   ]
  },
  {
   "cell_type": "code",
   "execution_count": null,
   "metadata": {
    "slideshow": {
     "slide_type": "skip"
    }
   },
   "outputs": [],
   "source": [
    "# # Creating the seaborn count plot through chaining\n",
    "# (\n",
    "#     df_titanic\n",
    "#     .pipe(lambda x: handle_plot_text(x, 'Pclass', 'Survived', sort=True))\n",
    "#     [['Pclass', 'Survived']]\n",
    "#     .set_index('Survived')\n",
    "#     .rename({0: 'perished', 1: 'survived'})\n",
    "#     .rename_axis('Survival outcome')\n",
    "#     .reset_index()\n",
    "#     .set_index('Pclass')\n",
    "#     .sort_index(ascending=False)\n",
    "#     .pipe(\n",
    "#         lambda x: sns.countplot(data=x, x='Pclass', hue='Survival outcome')\n",
    "#     )\n",
    "#     .set(\n",
    "#         title='Perished vs. Survived for each Pclass',\n",
    "#         xlabel='Pclass'\n",
    "#     )\n",
    "# )\n",
    "\n",
    "# # Display the plot\n",
    "# plt.show()"
   ]
  },
  {
   "cell_type": "code",
   "execution_count": 25,
   "metadata": {
    "scrolled": true
   },
   "outputs": [
    {
     "data": {
      "image/png": "[encoded data removed]",
      "text/plain": [
       "<Figure size 640x480 with 1 Axes>"
      ]
     },
     "metadata": {},
     "output_type": "display_data"
    }
   ],
   "source": [
    "# Using seaborn\n",
    "import seaborn as sns\n",
    "import matplotlib.pyplot as plt\n",
    "\n",
    "# Legend\n",
    "legend = ['Perished', 'Survived']\n",
    "\n",
    "# Create a figure and axes\n",
    "fig, ax = plt.subplots()\n",
    "\n",
    "# Palette\n",
    "palette = sns.color_palette(palette='prism_r')\n",
    "\n",
    "# Creating the seaborn count plot\n",
    "seaborn_plot = sns.countplot(data=df_titanic, x='Pclass', hue='Survived', palette=palette)\n",
    "\n",
    "# Add labels to the bars\n",
    "plot_labels(seaborn_plot)\n",
    "\n",
    "# Adding a title to the plot\n",
    "ax.set_title('Perished vs. Survived for each Pclass')\n",
    "\n",
    "# Add legend\n",
    "plt.legend(legend)\n",
    "\n",
    "# Display the plot\n",
    "plt.show()"
   ]
  },
  {
   "cell_type": "markdown",
   "metadata": {},
   "source": [
    "**In the upper class(Pclass 1), majority of the passengers survived(136 > 80) while in the middle class(Pclass 2) the survival outcome was close(survived=97, perished=87). For the lower class(Pclass 3), the number of passengers who perished(372) was over 3 times those who survived(119).**"
   ]
  },
  {
   "cell_type": "markdown",
   "metadata": {},
   "source": [
    "### Continuous Features\n"
   ]
  },
  {
   "cell_type": "markdown",
   "metadata": {},
   "source": [
    "#### Univariate Distribution Plot\n",
    "There are multiple ways to do histogram. I will demonstrate 3 ways.\n",
    "- ax.hist(): can not handle NaN value\n",
    "- seaborn.distplot(): can not handle NaN. Has KDE(kernel density estimation) by default.\n",
    "- pd.Series.hist(): simplest and can handle NaN by default"
   ]
  },
  {
   "cell_type": "markdown",
   "metadata": {},
   "source": [
    "##### Task 10: Plot histogram for Age\n",
    "Use pandas Series hist() function which handles missing value."
   ]
  },
  {
   "cell_type": "code",
   "execution_count": 26,
   "metadata": {},
   "outputs": [
    {
     "data": {
      "image/png": "[encoded data removed]",
      "text/plain": [
       "<Figure size 640x480 with 1 Axes>"
      ]
     },
     "metadata": {},
     "output_type": "display_data"
    }
   ],
   "source": [
    "# Pandas Series hist() plot\n",
    "(\n",
    "    df_titanic\n",
    "    ['Age']\n",
    "    .hist()\n",
    "    .set(\n",
    "        title='Distribution of passengers by Age',\n",
    "        xlabel='Age',\n",
    "        ylabel='Frequency'\n",
    "    )\n",
    ")\n",
    "    \n",
    "# Display the plot\n",
    "plt.show()\n"
   ]
  },
  {
   "cell_type": "markdown",
   "metadata": {},
   "source": [
    "**Right Skewed indicating most of the passengers that boarded were young and/or less than 40 years even though the ages of the overall passengers was between 0-80 years.**"
   ]
  },
  {
   "cell_type": "markdown",
   "metadata": {},
   "source": [
    "##### Task11: Stack age histogram of survived on top of overall age histogram\n",
    "Plot histogram for Age, then filter out survived passenger and plot histogram for Age on same axis. Set different color and label."
   ]
  },
  {
   "cell_type": "code",
   "execution_count": 27,
   "metadata": {},
   "outputs": [
    {
     "name": "stdout",
     "output_type": "stream",
     "text": [
      "<class 'pandas.core.frame.DataFrame'>\n",
      "Index: 891 entries, 1 to 891\n",
      "Data columns (total 10 columns):\n",
      " #   Column    Non-Null Count  Dtype   \n",
      "---  ------    --------------  -----   \n",
      " 0   Survived  891 non-null    int64   \n",
      " 1   Pclass    891 non-null    category\n",
      " 2   Name      891 non-null    object  \n",
      " 3   Sex       891 non-null    object  \n",
      " 4   Age       891 non-null    float64 \n",
      " 5   SibSp     891 non-null    int64   \n",
      " 6   Parch     891 non-null    int64   \n",
      " 7   Ticket    891 non-null    object  \n",
      " 8   Fare      891 non-null    float64 \n",
      " 9   Embarked  891 non-null    object  \n",
      "dtypes: category(1), float64(2), int64(3), object(4)\n",
      "memory usage: 70.6+ KB\n"
     ]
    }
   ],
   "source": [
    "df_titanic.info()"
   ]
  },
  {
   "cell_type": "code",
   "execution_count": 31,
   "metadata": {
    "scrolled": false
   },
   "outputs": [
    {
     "data": {
      "image/png": "[encoded data removed]",
      "text/plain": [
       "<Figure size 640x480 with 1 Axes>"
      ]
     },
     "metadata": {},
     "output_type": "display_data"
    },
    {
     "data": {
      "text/html": [
       "<div>\n",
       "<style scoped>\n",
       "    .dataframe tbody tr th:only-of-type {\n",
       "        vertical-align: middle;\n",
       "    }\n",
       "\n",
       "    .dataframe tbody tr th {\n",
       "        vertical-align: top;\n",
       "    }\n",
       "\n",
       "    .dataframe thead th {\n",
       "        text-align: right;\n",
       "    }\n",
       "</style>\n",
       "<table border=\"1\" class=\"dataframe\">\n",
       "  <thead>\n",
       "    <tr style=\"text-align: right;\">\n",
       "      <th></th>\n",
       "      <th>count</th>\n",
       "      <th>mean</th>\n",
       "      <th>std</th>\n",
       "      <th>min</th>\n",
       "      <th>25%</th>\n",
       "      <th>50%</th>\n",
       "      <th>75%</th>\n",
       "      <th>max</th>\n",
       "    </tr>\n",
       "  </thead>\n",
       "  <tbody>\n",
       "    <tr>\n",
       "      <th>Age</th>\n",
       "      <td>891.0</td>\n",
       "      <td>29.361582</td>\n",
       "      <td>13.019697</td>\n",
       "      <td>0.42</td>\n",
       "      <td>22.0</td>\n",
       "      <td>28.0</td>\n",
       "      <td>35.0</td>\n",
       "      <td>80.0</td>\n",
       "    </tr>\n",
       "    <tr>\n",
       "      <th>Survived</th>\n",
       "      <td>891.0</td>\n",
       "      <td>0.383838</td>\n",
       "      <td>0.486592</td>\n",
       "      <td>0.00</td>\n",
       "      <td>0.0</td>\n",
       "      <td>0.0</td>\n",
       "      <td>1.0</td>\n",
       "      <td>1.0</td>\n",
       "    </tr>\n",
       "  </tbody>\n",
       "</table>\n",
       "</div>"
      ],
      "text/plain": [
       "          count       mean        std   min   25%   50%   75%   max\n",
       "Age       891.0  29.361582  13.019697  0.42  22.0  28.0  35.0  80.0\n",
       "Survived  891.0   0.383838   0.486592  0.00   0.0   0.0   1.0   1.0"
      ]
     },
     "execution_count": 31,
     "metadata": {},
     "output_type": "execute_result"
    }
   ],
   "source": [
    "import matplotlib.pyplot as plt\n",
    "\n",
    "# Stack age histogram of survived on top of overall age histogram\n",
    "columns = ['Age', 'Survived']\n",
    "\n",
    "def plotter(df, kind='hist', columns=None):\n",
    "    # Plot for the overall age\n",
    "    (\n",
    "        df[columns[0]]\n",
    "        .plot(kind=kind, label='All Passengers')\n",
    "    )\n",
    "    \n",
    "    # Filter out survived passengers\n",
    "    survived_age = df[df[columns[1]]==1][columns[0]]\n",
    "    \n",
    "    # Plot for survived passengers on the same axis\n",
    "    (\n",
    "        survived_age\n",
    "        .plot(kind=kind, color='g', label='Survived Passengers')\n",
    "        .set(\n",
    "            title='Distribution of passengers by Age and by Survived',\n",
    "            xlabel='Age',\n",
    "            ylabel='Frequency'\n",
    "        )\n",
    "    )\n",
    "    \n",
    "    # Show legend\n",
    "    plt.legend()\n",
    "\n",
    "\n",
    "    # Display the plot\n",
    "    plt.show()\n",
    "    \n",
    "    return df\n",
    "    \n",
    "\n",
    "(\n",
    "    df_titanic\n",
    "    [columns]\n",
    "    .pipe(lambda x: plotter(x, columns=columns))\n",
    "    .describe().T    \n",
    ")"
   ]
  },
  {
   "cell_type": "markdown",
   "metadata": {},
   "source": [
    "**Children have higher survival rate. Senile adults(>65years) seldom survived.**"
   ]
  },
  {
   "cell_type": "markdown",
   "metadata": {},
   "source": [
    "[Back to Top](#Table-of-Contents)\n"
   ]
  },
  {
   "cell_type": "markdown",
   "metadata": {},
   "source": [
    "# Thank you"
   ]
  }
 ],
 "metadata": {
  "kernelspec": {
   "display_name": "Python 3 (ipykernel)",
   "language": "python",
   "name": "python3"
  },
  "language_info": {
   "codemirror_mode": {
    "name": "ipython",
    "version": 3
   },
   "file_extension": ".py",
   "mimetype": "text/x-python",
   "name": "python",
   "nbconvert_exporter": "python",
   "pygments_lexer": "ipython3",
   "version": "3.11.5"
  }
 },
 "nbformat": 4,
 "nbformat_minor": 2
}
